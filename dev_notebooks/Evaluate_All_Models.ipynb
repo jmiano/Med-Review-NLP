{
 "cells": [
  {
   "cell_type": "code",
   "execution_count": 1,
   "id": "0ff5af47",
   "metadata": {},
   "outputs": [],
   "source": [
    "import torch\n",
    "from torch import nn\n",
    "from torch.utils.data import DataLoader\n",
    "import numpy as np\n",
    "import pandas as pd\n",
    "import transformers\n",
    "from transformers import AutoModel\n",
    "import sys\n",
    "import math\n",
    "import seaborn as sb\n",
    "import matplotlib.pyplot as plt\n",
    "import sklearn.metrics as perf\n",
    "from scipy.stats import pearsonr\n",
    "sys.path.insert(0,'..')\n",
    "\n",
    "from utils.preprocessing import load_data, get_buckets\n",
    "from utils.transformer_dataset import ReviewDataset\n",
    "from utils.training import train_text_model, train_text_meta_model, train_meta_model\n",
    "from utils.evaluation import get_cls_perf, get_reg_perf, get_predictions, get_ordinal_cls_perf\n",
    "from models.transformer_models import UsefulScoreRegressorTextOnly, UsefulScoreRegressorAllFeat, UsefulScoreRegressorMetaOnly\n",
    "from models.transformer_models import UsefulScoreRegressorLinearBaseline, DrugLinearRegression"
   ]
  },
  {
   "cell_type": "code",
   "execution_count": 2,
   "id": "5192cfa3",
   "metadata": {},
   "outputs": [],
   "source": [
    "nonTextCols = ['ADHD', 'Acne', 'Anxiety', 'Bipolar Disorde', 'Birth Control',\n",
    "               'Depression', 'Insomnia', 'Obesity', 'Pain', 'Weight Loss', 'ratingNormalized']\n",
    "targetCol = 'usefulCountCappedNormalized'"
   ]
  },
  {
   "cell_type": "code",
   "execution_count": 11,
   "id": "902c37b9",
   "metadata": {},
   "outputs": [
    {
     "name": "stdout",
     "output_type": "stream",
     "text": [
      "192\n",
      "162\n"
     ]
    }
   ],
   "source": [
    "#### Check Model Caps\n",
    "train, val = load_data('../data/drugsComTrain_raw.csv', year_range=[2009, 2013],\n",
    "                      usefulCount_quantile=0.99)\n",
    "print(max(train['usefulCountCapped']))\n",
    "train, val = load_data('../data/drugsComTrain_raw.csv', year_range=[2013, 2017],\n",
    "                      usefulCount_quantile=0.99)\n",
    "print(max(train['usefulCountCapped']))"
   ]
  },
  {
   "cell_type": "markdown",
   "id": "ff44c62f",
   "metadata": {},
   "source": [
    "# No usefulCount cap and no year filter"
   ]
  },
  {
   "cell_type": "code",
   "execution_count": 7,
   "id": "9650ce28",
   "metadata": {},
   "outputs": [],
   "source": [
    "train, val = load_data('../data/drugsComTest_raw.csv', year_range=[2008, 2017], usefulCount_range=[0, 10000],\n",
    "                      usefulCount_quantile=None)\n",
    "test = pd.concat((train, val), axis=0)\n",
    "testset = ReviewDataset(test, 'distilbert-base-uncased', nonTextCols, targetCol)\n",
    "test_loader = DataLoader(dataset=testset, batch_size=8, shuffle=False)"
   ]
  },
  {
   "cell_type": "markdown",
   "id": "950af15d",
   "metadata": {},
   "source": [
    "## BERT"
   ]
  },
  {
   "cell_type": "markdown",
   "id": "66aefa43",
   "metadata": {},
   "source": [
    "#### Text"
   ]
  },
  {
   "cell_type": "code",
   "execution_count": 5,
   "id": "57965819",
   "metadata": {},
   "outputs": [
    {
     "name": "stdout",
     "output_type": "stream",
     "text": [
      "mae: 0.02106926217675209\n",
      "rmse: 0.03769624978303909\n",
      "r2: 0.16104679665887278\n"
     ]
    }
   ],
   "source": [
    "model = torch.load('../models/distilBERT_Frozen_TextOnly.pt')\n",
    "model = model.cuda()\n",
    "mae, rmse, r2 = get_reg_perf(model=model, loader=test_loader, model_type='text')\n",
    "print(f'mae: {mae}')\n",
    "print(f'rmse: {rmse}')\n",
    "print(f'r2: {r2}')"
   ]
  },
  {
   "cell_type": "markdown",
   "id": "988a4936",
   "metadata": {},
   "source": [
    "#### Text-Meta"
   ]
  },
  {
   "cell_type": "code",
   "execution_count": null,
   "id": "580ca38a",
   "metadata": {},
   "outputs": [],
   "source": [
    "model = torch.load('../models/distilBERT_Frozen_TextMeta.pt')\n",
    "model = model.cuda()\n",
    "mae, rmse, r2 = get_reg_perf(model=model, loader=test_loader, model_type='text-meta')\n",
    "print(f'mae: {mae}')\n",
    "print(f'rmse: {rmse}')\n",
    "print(f'r2: {r2}')"
   ]
  },
  {
   "cell_type": "markdown",
   "id": "7577a927",
   "metadata": {},
   "source": [
    "### Baseline"
   ]
  },
  {
   "cell_type": "markdown",
   "id": "430272f3",
   "metadata": {},
   "source": [
    "#### Linear"
   ]
  },
  {
   "cell_type": "code",
   "execution_count": 8,
   "id": "0e987573",
   "metadata": {},
   "outputs": [
    {
     "name": "stdout",
     "output_type": "stream",
     "text": [
      "mae: 0.019120143726468086\n",
      "rmse: 0.037572771310806274\n",
      "r2: 0.16653393699683916\n"
     ]
    }
   ],
   "source": [
    "model = DrugLinearRegression()\n",
    "model.load_state_dict(torch.load('../models/Linear_Meta.pt'))\n",
    "model = model.cuda()\n",
    "mae, rmse, r2 = get_reg_perf(model=model, loader=test_loader, model_type='meta')\n",
    "print(f'mae: {mae}')\n",
    "print(f'rmse: {rmse}')\n",
    "print(f'r2: {r2}')"
   ]
  },
  {
   "cell_type": "markdown",
   "id": "049e06b2",
   "metadata": {},
   "source": [
    "#### Neural"
   ]
  },
  {
   "cell_type": "code",
   "execution_count": 10,
   "id": "1604c9c6",
   "metadata": {},
   "outputs": [
    {
     "name": "stdout",
     "output_type": "stream",
     "text": [
      "mae: 0.018023859709501266\n",
      "rmse: 0.03678973391652107\n",
      "r2: 0.20091181648239287\n"
     ]
    }
   ],
   "source": [
    "model = torch.load('../models/Neural_Meta.pt')\n",
    "model = model.cuda()\n",
    "mae, rmse, r2 = get_reg_perf(model=model, loader=test_loader, model_type='meta')\n",
    "print(f'mae: {mae}')\n",
    "print(f'rmse: {rmse}')\n",
    "print(f'r2: {r2}')"
   ]
  },
  {
   "cell_type": "markdown",
   "id": "6524096b",
   "metadata": {},
   "source": [
    "# usefulCount cap of 99th percentile and years 2009 to 2013 filter"
   ]
  },
  {
   "cell_type": "code",
   "execution_count": 3,
   "id": "dcd92222",
   "metadata": {},
   "outputs": [],
   "source": [
    "train, val = load_data('../data/drugsComTrain_raw.csv', year_range=[2009, 2013], usefulCount_quantile=0.99)\n",
    "max_usefulCount = max(train['usefulCountCapped'])  # get the cap used in training\n",
    "\n",
    "train, val = load_data('../data/drugsComTest_raw.csv', year_range=[2009, 2013],\n",
    "                       usefulCount_range=[0, max_usefulCount])\n",
    "test = pd.concat((train, val), axis=0)\n",
    "testset = ReviewDataset(test, 'distilbert-base-uncased', nonTextCols, targetCol)\n",
    "test_loader = DataLoader(dataset=testset, batch_size=8, shuffle=False)"
   ]
  },
  {
   "cell_type": "markdown",
   "id": "e017bb79",
   "metadata": {},
   "source": [
    "#### Text"
   ]
  },
  {
   "cell_type": "code",
   "execution_count": 7,
   "id": "8450e0b9",
   "metadata": {},
   "outputs": [
    {
     "name": "stdout",
     "output_type": "stream",
     "text": [
      "mae: 0.11337287724018097\n",
      "rmse: 0.16882476210594177\n",
      "r2: 0.22647702923541813\n"
     ]
    }
   ],
   "source": [
    "model = torch.load('../models/distilBERT_Frozen_TextOnly_Cap99_2009-2013.pt')\n",
    "model = model.cuda()\n",
    "mae, rmse, r2 = get_reg_perf(model=model, loader=test_loader, model_type='text')\n",
    "print(f'mae: {mae}')\n",
    "print(f'rmse: {rmse}')\n",
    "print(f'r2: {r2}')"
   ]
  },
  {
   "cell_type": "markdown",
   "id": "85413c23",
   "metadata": {},
   "source": [
    "#### Text-Meta"
   ]
  },
  {
   "cell_type": "code",
   "execution_count": 4,
   "id": "15f65bbb",
   "metadata": {},
   "outputs": [
    {
     "name": "stdout",
     "output_type": "stream",
     "text": [
      "mae: 0.10368625074625015\n",
      "rmse: 0.16133826971054077\n",
      "r2: 0.29355932056986955\n"
     ]
    }
   ],
   "source": [
    "model = torch.load('../models/distilBERT_Frozen_TextMeta_Cap99_2009-2013.pt')\n",
    "model = model.cuda()\n",
    "mae, rmse, r2 = get_reg_perf(model=model, loader=test_loader, model_type='text-meta')\n",
    "print(f'mae: {mae}')\n",
    "print(f'rmse: {rmse}')\n",
    "print(f'r2: {r2}')"
   ]
  },
  {
   "cell_type": "markdown",
   "id": "37c417e0",
   "metadata": {},
   "source": [
    "### Baseline"
   ]
  },
  {
   "cell_type": "markdown",
   "id": "84617eb6",
   "metadata": {},
   "source": [
    "#### Linear"
   ]
  },
  {
   "cell_type": "code",
   "execution_count": 6,
   "id": "c9a425ff",
   "metadata": {},
   "outputs": [
    {
     "name": "stdout",
     "output_type": "stream",
     "text": [
      "mae: 0.11296074092388153\n",
      "rmse: 0.17021065950393677\n",
      "r2: 0.21372500760932356\n"
     ]
    }
   ],
   "source": [
    "model = torch.load('../models/Linear_Meta_Cap99_2009-2013.pt')\n",
    "model = model.cuda()\n",
    "mae, rmse, r2 = get_reg_perf(model=model, loader=test_loader, model_type='meta')\n",
    "print(f'mae: {mae}')\n",
    "print(f'rmse: {rmse}')\n",
    "print(f'r2: {r2}')"
   ]
  },
  {
   "cell_type": "markdown",
   "id": "d0520b6c",
   "metadata": {},
   "source": [
    "#### Neural"
   ]
  },
  {
   "cell_type": "code",
   "execution_count": 8,
   "id": "e5a45241",
   "metadata": {},
   "outputs": [
    {
     "name": "stdout",
     "output_type": "stream",
     "text": [
      "mae: 0.10836990177631378\n",
      "rmse: 0.16831393539905548\n",
      "r2: 0.2311508821727014\n"
     ]
    }
   ],
   "source": [
    "model = torch.load('../models/Neural_Meta_Cap99_2009-2013.pt')\n",
    "model = model.cuda()\n",
    "mae, rmse, r2 = get_reg_perf(model=model, loader=test_loader, model_type='meta')\n",
    "print(f'mae: {mae}')\n",
    "print(f'rmse: {rmse}')\n",
    "print(f'r2: {r2}')"
   ]
  },
  {
   "cell_type": "markdown",
   "id": "f89ac2fe",
   "metadata": {},
   "source": [
    "# usefulCount cap of 99th percentile and years 2013 to 2017 filter"
   ]
  },
  {
   "cell_type": "code",
   "execution_count": 2,
   "id": "4484ba9a",
   "metadata": {},
   "outputs": [],
   "source": [
    "nonTextCols = ['ADHD', 'Acne', 'Anxiety', 'Bipolar Disorde', 'Birth Control',\n",
    "               'Depression', 'Insomnia', 'Obesity', 'Pain', 'Weight Loss', 'ratingNormalized', 'ageScore']\n",
    "targetCol = 'usefulCountCappedNormalized'"
   ]
  },
  {
   "cell_type": "code",
   "execution_count": 6,
   "id": "688f06e1",
   "metadata": {},
   "outputs": [],
   "source": [
    "train, val = load_data('../data/drugsComTrain_raw.csv', year_range=[2013, 2017], usefulCount_quantile=0.99)\n",
    "max_usefulCount = max(train['usefulCountCapped'])  # get the cap used in training\n",
    "\n",
    "train, val = load_data('../data/drugsComTest_raw.csv', year_range=[2013, 2017],\n",
    "                       usefulCount_range=[0, max_usefulCount])\n",
    "test = pd.concat((train, val), axis=0)\n",
    "testset = ReviewDataset(test, 'distilbert-base-uncased', nonTextCols, targetCol)\n",
    "test_loader = DataLoader(dataset=testset, batch_size=8, shuffle=False)"
   ]
  },
  {
   "cell_type": "markdown",
   "id": "2b9c7e92",
   "metadata": {},
   "source": [
    "#### Text"
   ]
  },
  {
   "cell_type": "code",
   "execution_count": 12,
   "id": "4547d4ca",
   "metadata": {},
   "outputs": [
    {
     "name": "stdout",
     "output_type": "stream",
     "text": [
      "mae: 0.12026678025722504\n",
      "rmse: 0.17249713838100433\n",
      "r2: 0.19245881819412813\n"
     ]
    }
   ],
   "source": [
    "model = torch.load('../models/distilBERT_Frozen_TextOnly_Cap99_2013-2017_wAge.pt')\n",
    "model = model.cuda()\n",
    "mae, rmse, r2 = get_reg_perf(model=model, loader=test_loader, model_type='text')\n",
    "print(f'mae: {mae}')\n",
    "print(f'rmse: {rmse}')\n",
    "print(f'r2: {r2}')"
   ]
  },
  {
   "cell_type": "markdown",
   "id": "43e72ee6",
   "metadata": {},
   "source": [
    "#### Text-Meta"
   ]
  },
  {
   "cell_type": "code",
   "execution_count": 7,
   "id": "aad0136b",
   "metadata": {},
   "outputs": [
    {
     "name": "stdout",
     "output_type": "stream",
     "text": [
      "mae: 0.07737904787063599\n",
      "rmse: 0.12650640308856964\n",
      "r2: 0.5699776035372182\n"
     ]
    }
   ],
   "source": [
    "model = torch.load('../models/distilBERT_Frozen_TextMeta_Cap99_2013-2017_wAge.pt')\n",
    "model = model.cuda()\n",
    "mae, rmse, r2 = get_reg_perf(model=model, loader=test_loader, model_type='text-meta')\n",
    "print(f'mae: {mae}')\n",
    "print(f'rmse: {rmse}')\n",
    "print(f'r2: {r2}')"
   ]
  },
  {
   "cell_type": "markdown",
   "id": "e7b4abb9",
   "metadata": {},
   "source": [
    "### Baseline"
   ]
  },
  {
   "cell_type": "markdown",
   "id": "fa9f2e38",
   "metadata": {},
   "source": [
    "#### Linear"
   ]
  },
  {
   "cell_type": "code",
   "execution_count": 8,
   "id": "5f80d477",
   "metadata": {},
   "outputs": [
    {
     "name": "stdout",
     "output_type": "stream",
     "text": [
      "mae: 0.09539668262004852\n",
      "rmse: 0.14320163428783417\n",
      "r2: 0.4489868519066883\n"
     ]
    }
   ],
   "source": [
    "model = torch.load('../models/Linear_Meta_Cap99_2013-2017_wAge.pt')\n",
    "model = model.cuda()\n",
    "mae, rmse, r2 = get_reg_perf(model=model, loader=test_loader, model_type='meta')\n",
    "print(f'mae: {mae}')\n",
    "print(f'rmse: {rmse}')\n",
    "print(f'r2: {r2}')"
   ]
  },
  {
   "cell_type": "markdown",
   "id": "1fe0495b",
   "metadata": {},
   "source": [
    "#### Neural"
   ]
  },
  {
   "cell_type": "code",
   "execution_count": 9,
   "id": "e01fefda",
   "metadata": {},
   "outputs": [
    {
     "name": "stdout",
     "output_type": "stream",
     "text": [
      "mae: 0.08046085387468338\n",
      "rmse: 0.1320832520723343\n",
      "r2: 0.5312281168152972\n"
     ]
    }
   ],
   "source": [
    "model = torch.load('../models/Neural_Meta_Cap99_2013-2017_wAge.pt')\n",
    "model = model.cuda()\n",
    "mae, rmse, r2 = get_reg_perf(model=model, loader=test_loader, model_type='meta')\n",
    "print(f'mae: {mae}')\n",
    "print(f'rmse: {rmse}')\n",
    "print(f'r2: {r2}')"
   ]
  },
  {
   "cell_type": "markdown",
   "id": "aa15cd25",
   "metadata": {},
   "source": [
    "# Classification"
   ]
  },
  {
   "cell_type": "markdown",
   "id": "3f8c25a5",
   "metadata": {},
   "source": [
    "## usefulCount cap of 99th percentile and years 2009 to 2013 filter"
   ]
  },
  {
   "cell_type": "code",
   "execution_count": 12,
   "id": "9aa8d09b",
   "metadata": {},
   "outputs": [],
   "source": [
    "nonTextCols = ['ADHD', 'Acne', 'Anxiety', 'Bipolar Disorde', 'Birth Control',\n",
    "               'Depression', 'Insomnia', 'Obesity', 'Pain', 'Weight Loss', 'ratingNormalized']\n",
    "targetCol = 'usefulCountClass'"
   ]
  },
  {
   "cell_type": "markdown",
   "id": "58f7e102",
   "metadata": {},
   "source": [
    "#### Text"
   ]
  },
  {
   "cell_type": "code",
   "execution_count": null,
   "id": "fc4b3de4",
   "metadata": {},
   "outputs": [],
   "source": [
    "for num_vals in range(2, 6):\n",
    "    curr_quantiles = np.array([(1/num_vals)*i for i in range(1, num_vals)])\n",
    "    print(f'num_vals: {num_vals}')\n",
    "    print(f'curr_quantiles: {curr_quantiles}')\n",
    "\n",
    "    train, val = load_data('../data/drugsComTest_raw.csv', year_range=[2009, 2013], usefulCount_range=[0, 10000],\n",
    "                           quantiles_for_class=curr_quantiles)\n",
    "    test = pd.concat((train, val), axis=0)\n",
    "    testset = ReviewDataset(test, 'distilbert-base-uncased', nonTextCols, targetCol)\n",
    "    test_loader = DataLoader(dataset=testset, batch_size=8, shuffle=False)\n",
    "    \n",
    "    model = torch.load(f'../models/Classifiers/distilBERT_Frozen_TextOnly_Classify{num_vals}.pt')\n",
    "    model = model.cuda()\n",
    "    f1, acc = get_cls_perf(model=model, loader=test_loader, model_type='text')\n",
    "    print(f'f1: {f1}')\n",
    "    print(f'acc: {acc}')\n",
    "    \n",
    "    print()"
   ]
  },
  {
   "cell_type": "markdown",
   "id": "765a5c92",
   "metadata": {},
   "source": [
    "#### Text-Meta"
   ]
  },
  {
   "cell_type": "code",
   "execution_count": 13,
   "id": "e7003d48",
   "metadata": {},
   "outputs": [
    {
     "name": "stdout",
     "output_type": "stream",
     "text": [
      "num_vals: 2\n",
      "curr_quantiles: [0.5]\n",
      "f1: 0.7442669431370085\n",
      "acc: 0.7456925337251236\n",
      "\n",
      "num_vals: 3\n",
      "curr_quantiles: [0.33333333 0.66666667]\n",
      "f1: 0.5891198938700811\n",
      "acc: 0.5948978228930145\n",
      "\n",
      "num_vals: 4\n",
      "curr_quantiles: [0.25 0.5  0.75]\n",
      "f1: 0.4755736470840837\n",
      "acc: 0.4881795111526646\n",
      "\n",
      "num_vals: 5\n",
      "curr_quantiles: [0.2 0.4 0.6 0.8]\n",
      "f1: 0.3486130543906599\n",
      "acc: 0.40857486309603314\n",
      "\n"
     ]
    }
   ],
   "source": [
    "for num_vals in range(2, 6):\n",
    "    curr_quantiles = np.array([(1/num_vals)*i for i in range(1, num_vals)])\n",
    "    print(f'num_vals: {num_vals}')\n",
    "    print(f'curr_quantiles: {curr_quantiles}')\n",
    "\n",
    "    train, val = load_data('../data/drugsComTest_raw.csv', year_range=[2009, 2013], usefulCount_range=[0, 10000],\n",
    "                           quantiles_for_class=curr_quantiles)\n",
    "    test = pd.concat((train, val), axis=0)\n",
    "    testset = ReviewDataset(test, 'distilbert-base-uncased', nonTextCols, targetCol)\n",
    "    test_loader = DataLoader(dataset=testset, batch_size=8, shuffle=False)\n",
    "    \n",
    "    model = torch.load(f'../models/Classifiers/distilBERT_Frozen_TextMeta_Classify{num_vals}.pt')\n",
    "    model = model.cuda()\n",
    "    f1, acc = get_cls_perf(model=model, loader=test_loader, model_type='text-meta')\n",
    "    print(f'f1: {f1}')\n",
    "    print(f'acc: {acc}')\n",
    "    \n",
    "    print()"
   ]
  },
  {
   "cell_type": "markdown",
   "id": "fcc21dd1",
   "metadata": {},
   "source": [
    "### Baselines"
   ]
  },
  {
   "cell_type": "markdown",
   "id": "aff8a6bf",
   "metadata": {},
   "source": [
    "#### Linear"
   ]
  },
  {
   "cell_type": "code",
   "execution_count": 14,
   "id": "212bb707",
   "metadata": {},
   "outputs": [
    {
     "name": "stdout",
     "output_type": "stream",
     "text": [
      "num_vals: 2\n",
      "curr_quantiles: [0.5]\n",
      "f1: 0.7323244946351537\n",
      "acc: 0.7367436890610392\n",
      "\n",
      "num_vals: 3\n",
      "curr_quantiles: [0.33333333 0.66666667]\n",
      "f1: 0.5657927783152747\n",
      "acc: 0.572859623347135\n",
      "\n",
      "num_vals: 4\n",
      "curr_quantiles: [0.25 0.5  0.75]\n",
      "f1: 0.44674062371685364\n",
      "acc: 0.4709496460531588\n",
      "\n",
      "num_vals: 5\n",
      "curr_quantiles: [0.2 0.4 0.6 0.8]\n",
      "f1: 0.33760113177370316\n",
      "acc: 0.40056097235207694\n",
      "\n"
     ]
    }
   ],
   "source": [
    "for num_vals in range(2, 6):\n",
    "    curr_quantiles = np.array([(1/num_vals)*i for i in range(1, num_vals)])\n",
    "    print(f'num_vals: {num_vals}')\n",
    "    print(f'curr_quantiles: {curr_quantiles}')\n",
    "\n",
    "    train, val = load_data('../data/drugsComTest_raw.csv', year_range=[2009, 2013], usefulCount_range=[0, 10000],\n",
    "                           quantiles_for_class=curr_quantiles)\n",
    "    test = pd.concat((train, val), axis=0)\n",
    "    testset = ReviewDataset(test, 'distilbert-base-uncased', nonTextCols, targetCol)\n",
    "    test_loader = DataLoader(dataset=testset, batch_size=8, shuffle=False)\n",
    "    \n",
    "    model = torch.load(f'../models/Classifiers/MetaOnly_LinearClassifierBaseline{num_vals}.pt')\n",
    "    model = model.cuda()\n",
    "    f1, acc = get_cls_perf(model=model, loader=test_loader, model_type='meta')\n",
    "    print(f'f1: {f1}')\n",
    "    print(f'acc: {acc}')\n",
    "    \n",
    "    print()"
   ]
  },
  {
   "cell_type": "markdown",
   "id": "397796bb",
   "metadata": {},
   "source": [
    "#### Neural"
   ]
  },
  {
   "cell_type": "code",
   "execution_count": 15,
   "id": "e4310f6b",
   "metadata": {},
   "outputs": [
    {
     "name": "stdout",
     "output_type": "stream",
     "text": [
      "num_vals: 2\n",
      "curr_quantiles: [0.5]\n",
      "f1: 0.7346525537214236\n",
      "acc: 0.7395485508214238\n",
      "\n",
      "num_vals: 3\n",
      "curr_quantiles: [0.33333333 0.66666667]\n",
      "f1: 0.571030924181377\n",
      "acc: 0.5741952718044611\n",
      "\n",
      "num_vals: 4\n",
      "curr_quantiles: [0.25 0.5  0.75]\n",
      "f1: 0.4443782479160957\n",
      "acc: 0.4693468679043676\n",
      "\n",
      "num_vals: 5\n",
      "curr_quantiles: [0.2 0.4 0.6 0.8]\n",
      "f1: 0.3346053023473036\n",
      "acc: 0.40122879658073995\n",
      "\n"
     ]
    }
   ],
   "source": [
    "for num_vals in range(2, 6):\n",
    "    curr_quantiles = np.array([(1/num_vals)*i for i in range(1, num_vals)])\n",
    "    print(f'num_vals: {num_vals}')\n",
    "    print(f'curr_quantiles: {curr_quantiles}')\n",
    "\n",
    "    train, val = load_data('../data/drugsComTest_raw.csv', year_range=[2009, 2013], usefulCount_range=[0, 10000],\n",
    "                           quantiles_for_class=curr_quantiles)\n",
    "    test = pd.concat((train, val), axis=0)\n",
    "    testset = ReviewDataset(test, 'distilbert-base-uncased', nonTextCols, targetCol)\n",
    "    test_loader = DataLoader(dataset=testset, batch_size=8, shuffle=False)\n",
    "    \n",
    "    model = torch.load(f'../models/Classifiers/MetaOnly_NNClassifierBaseline{num_vals}.pt')\n",
    "    model = model.cuda()\n",
    "    f1, acc = get_cls_perf(model=model, loader=test_loader, model_type='meta')\n",
    "    print(f'f1: {f1}')\n",
    "    print(f'acc: {acc}')\n",
    "    \n",
    "    print()"
   ]
  },
  {
   "cell_type": "markdown",
   "id": "2f804c0a",
   "metadata": {},
   "source": [
    "### 2013 to 2017 with age feature, Text-Meta"
   ]
  },
  {
   "cell_type": "code",
   "execution_count": 24,
   "id": "05f08751",
   "metadata": {},
   "outputs": [],
   "source": [
    "nonTextCols = ['ADHD', 'Acne', 'Anxiety', 'Bipolar Disorde', 'Birth Control',\n",
    "               'Depression', 'Insomnia', 'Obesity', 'Pain', 'Weight Loss', 'ratingNormalized', 'ageScore']\n",
    "targetCol = 'usefulCountClass'"
   ]
  },
  {
   "cell_type": "code",
   "execution_count": 25,
   "id": "78afa6f8",
   "metadata": {},
   "outputs": [
    {
     "name": "stdout",
     "output_type": "stream",
     "text": [
      "num_vals: 2\n",
      "curr_quantiles: [0.5]\n",
      "f1: 0.8166952862120446\n",
      "acc: 0.8166952980848763\n",
      "\n",
      "num_vals: 3\n",
      "curr_quantiles: [0.33333333 0.66666667]\n",
      "f1: 0.6669123825030857\n",
      "acc: 0.666984793535662\n",
      "\n",
      "num_vals: 4\n",
      "curr_quantiles: [0.25 0.5  0.75]\n",
      "f1: 0.5529460367448011\n",
      "acc: 0.5479417191576\n",
      "\n",
      "num_vals: 5\n",
      "curr_quantiles: [0.2 0.4 0.6 0.8]\n",
      "f1: 0.4437772469145317\n",
      "acc: 0.47871731246421073\n",
      "\n"
     ]
    }
   ],
   "source": [
    "for num_vals in range(2, 6):\n",
    "    curr_quantiles = np.array([(1/num_vals)*i for i in range(1, num_vals)])\n",
    "    print(f'num_vals: {num_vals}')\n",
    "    print(f'curr_quantiles: {curr_quantiles}')\n",
    "\n",
    "    train, val = load_data('../data/drugsComTest_raw.csv', year_range=[2013, 2017], usefulCount_range=[0, 10000],\n",
    "                           quantiles_for_class=curr_quantiles)\n",
    "    test = pd.concat((train, val), axis=0)\n",
    "    testset = ReviewDataset(test, 'distilbert-base-uncased', nonTextCols, targetCol)\n",
    "    test_loader = DataLoader(dataset=testset, batch_size=8, shuffle=False)\n",
    "    \n",
    "    model = torch.load(f'../models/Classifiers/distilBERT_Frozen_TextMeta_Classify{num_vals}_2013-2017_wAge.pt')\n",
    "    model = model.cuda()\n",
    "    f1, acc = get_cls_perf(model=model, loader=test_loader, model_type='text-meta')\n",
    "    print(f'f1: {f1}')\n",
    "    print(f'acc: {acc}')\n",
    "    \n",
    "    print()"
   ]
  },
  {
   "cell_type": "markdown",
   "id": "3443766a",
   "metadata": {},
   "source": [
    "# Ordinal Classification/Regression"
   ]
  },
  {
   "cell_type": "markdown",
   "id": "3cc4efe3",
   "metadata": {},
   "source": [
    "### 2009 to 2013 with no age feature, Text-Meta"
   ]
  },
  {
   "cell_type": "code",
   "execution_count": 2,
   "id": "404c1cbc",
   "metadata": {},
   "outputs": [],
   "source": [
    "nonTextCols = ['ADHD', 'Acne', 'Anxiety', 'Bipolar Disorde', 'Birth Control',\n",
    "               'Depression', 'Insomnia', 'Obesity', 'Pain', 'Weight Loss', 'ratingNormalized']\n",
    "targetCol = 'usefulCountClass'"
   ]
  },
  {
   "cell_type": "code",
   "execution_count": 14,
   "id": "bfa0156c",
   "metadata": {},
   "outputs": [
    {
     "name": "stdout",
     "output_type": "stream",
     "text": [
      "num_vals: 2\n",
      "curr_quantiles: [0.5]\n",
      "f1: 0.7344548479788833\n",
      "acc: 0.7415520235074129\n",
      "\n",
      "num_vals: 3\n",
      "curr_quantiles: [0.33333333 0.66666667]\n",
      "f1: 0.5667544721135294\n",
      "acc: 0.5705890209696808\n",
      "\n",
      "num_vals: 4\n",
      "curr_quantiles: [0.25 0.5  0.75]\n",
      "f1: 0.4487997152533376\n",
      "acc: 0.4493121410444771\n",
      "\n",
      "num_vals: 5\n",
      "curr_quantiles: [0.2 0.4 0.6 0.8]\n",
      "f1: 0.37400672996791107\n",
      "acc: 0.3743822625884867\n",
      "\n"
     ]
    }
   ],
   "source": [
    "for num_vals in range(2, 6):\n",
    "    curr_quantiles = np.array([(1/num_vals)*i for i in range(1, num_vals)])\n",
    "    print(f'num_vals: {num_vals}')\n",
    "    print(f'curr_quantiles: {curr_quantiles}')\n",
    "\n",
    "    train, val = load_data('../data/drugsComTrain_raw.csv', year_range=[2009, 2013], usefulCount_quantile=0.99,\n",
    "                           quantiles_for_class=curr_quantiles)\n",
    "    train_val = pd.concat((train, val), axis=0)\n",
    "    max_usefulCount = max(train['usefulCountCapped'])\n",
    "    curr_buckets = get_buckets(df=train_val, quantiles=curr_quantiles)\n",
    "\n",
    "    #### Load test data and create loader\n",
    "    test1, test2 = load_data('../data/drugsComTest_raw.csv', year_range=[2009, 2013], usefulCount_range=[0, max_usefulCount],\n",
    "                           quantiles_for_class=curr_quantiles)\n",
    "    test = pd.concat((test1, test2), axis=0)\n",
    "    testset = ReviewDataset(test, 'distilbert-base-uncased', nonTextCols, targetCol)\n",
    "    test_loader = DataLoader(dataset=testset, batch_size=8, shuffle=False)\n",
    "    \n",
    "    model = torch.load(f'../models/distilBERT_Frozen_TextMeta_Cap99_2009-2013.pt')\n",
    "    model = model.cuda()\n",
    "    f1, acc = get_ordinal_cls_perf(model=model, loader=test_loader, model_type='text-meta',\n",
    "                                   curr_buckets=curr_buckets, max_usefulCount=max_usefulCount)\n",
    "    print(f'f1: {f1}')\n",
    "    print(f'acc: {acc}')\n",
    "    \n",
    "    print()"
   ]
  },
  {
   "cell_type": "markdown",
   "id": "42a8cb2a",
   "metadata": {},
   "source": [
    "### 2013 to 2017 with age feature, Text-Meta"
   ]
  },
  {
   "cell_type": "code",
   "execution_count": 16,
   "id": "26ba6346",
   "metadata": {},
   "outputs": [],
   "source": [
    "nonTextCols = ['ADHD', 'Acne', 'Anxiety', 'Bipolar Disorde', 'Birth Control',\n",
    "               'Depression', 'Insomnia', 'Obesity', 'Pain', 'Weight Loss', 'ratingNormalized', 'ageScore']\n",
    "targetCol = 'usefulCountClass'"
   ]
  },
  {
   "cell_type": "code",
   "execution_count": 17,
   "id": "6f675ac3",
   "metadata": {},
   "outputs": [
    {
     "name": "stdout",
     "output_type": "stream",
     "text": [
      "num_vals: 2\n",
      "curr_quantiles: [0.5]\n",
      "f1: 0.8136123422441912\n",
      "acc: 0.8168861742062734\n",
      "\n",
      "num_vals: 3\n",
      "curr_quantiles: [0.33333333 0.66666667]\n",
      "f1: 0.6489881444225284\n",
      "acc: 0.6484061843863332\n",
      "\n",
      "num_vals: 4\n",
      "curr_quantiles: [0.25 0.5  0.75]\n",
      "f1: 0.5445023270051742\n",
      "acc: 0.5480053445313992\n",
      "\n",
      "num_vals: 5\n",
      "curr_quantiles: [0.2 0.4 0.6 0.8]\n",
      "f1: 0.46532274237106563\n",
      "acc: 0.4680282496659668\n",
      "\n"
     ]
    }
   ],
   "source": [
    "for num_vals in range(2, 6):\n",
    "    curr_quantiles = np.array([(1/num_vals)*i for i in range(1, num_vals)])\n",
    "    print(f'num_vals: {num_vals}')\n",
    "    print(f'curr_quantiles: {curr_quantiles}')\n",
    "\n",
    "    train, val = load_data('../data/drugsComTrain_raw.csv', year_range=[2013, 2017], usefulCount_quantile=0.99,\n",
    "                           quantiles_for_class=curr_quantiles)\n",
    "    train_val = pd.concat((train, val), axis=0)\n",
    "    max_usefulCount = max(train['usefulCountCapped'])\n",
    "    curr_buckets = get_buckets(df=train_val, quantiles=curr_quantiles)\n",
    "\n",
    "    #### Load test data and create loader\n",
    "    test1, test2 = load_data('../data/drugsComTest_raw.csv', year_range=[2013, 2017], usefulCount_range=[0, max_usefulCount],\n",
    "                           quantiles_for_class=curr_quantiles)\n",
    "    test = pd.concat((test1, test2), axis=0)\n",
    "    testset = ReviewDataset(test, 'distilbert-base-uncased', nonTextCols, targetCol)\n",
    "    test_loader = DataLoader(dataset=testset, batch_size=8, shuffle=False)\n",
    "    \n",
    "    model = torch.load(f'../models/distilBERT_Frozen_TextMeta_Cap99_2013-2017_wAge.pt')\n",
    "    model = model.cuda()\n",
    "    f1, acc = get_ordinal_cls_perf(model=model, loader=test_loader, model_type='text-meta',\n",
    "                                   curr_buckets=curr_buckets, max_usefulCount=max_usefulCount)\n",
    "    print(f'f1: {f1}')\n",
    "    print(f'acc: {acc}')\n",
    "    \n",
    "    print()"
   ]
  },
  {
   "cell_type": "markdown",
   "id": "e907349d",
   "metadata": {},
   "source": [
    "#### TextMeta with No Age"
   ]
  },
  {
   "cell_type": "code",
   "execution_count": 4,
   "id": "c0507832",
   "metadata": {},
   "outputs": [
    {
     "name": "stdout",
     "output_type": "stream",
     "text": [
      "num_vals: 2\n",
      "curr_quantiles: [0.5]\n",
      "f1: 0.7988682954899657\n",
      "acc: 0.7991346949163326\n",
      "\n"
     ]
    }
   ],
   "source": [
    "nonTextCols = ['ADHD', 'Acne', 'Anxiety', 'Bipolar Disorde', 'Birth Control',\n",
    "               'Depression', 'Insomnia', 'Obesity', 'Pain', 'Weight Loss', 'ratingNormalized']\n",
    "targetCol = 'usefulCountClass'\n",
    "\n",
    "num_vals = 2\n",
    "curr_quantiles = np.array([(1/num_vals)*i for i in range(1, num_vals)])\n",
    "print(f'num_vals: {num_vals}')\n",
    "print(f'curr_quantiles: {curr_quantiles}')\n",
    "\n",
    "train, val = load_data('../data/drugsComTrain_raw.csv', year_range=[2013, 2017], usefulCount_quantile=0.99,\n",
    "                       quantiles_for_class=curr_quantiles)\n",
    "train_val = pd.concat((train, val), axis=0)\n",
    "max_usefulCount = max(train['usefulCountCapped'])\n",
    "curr_buckets = get_buckets(df=train_val, quantiles=curr_quantiles)\n",
    "\n",
    "#### Load test data and create loader\n",
    "test1, test2 = load_data('../data/drugsComTest_raw.csv', year_range=[2013, 2017], usefulCount_range=[0, max_usefulCount],\n",
    "                       quantiles_for_class=curr_quantiles)\n",
    "test = pd.concat((test1, test2), axis=0)\n",
    "testset = ReviewDataset(test, 'distilbert-base-uncased', nonTextCols, targetCol)\n",
    "test_loader = DataLoader(dataset=testset, batch_size=8, shuffle=False)\n",
    "\n",
    "model = torch.load(f'../models/Classifiers/distilBERT_Frozen_TextMeta_Classify{num_vals}_2013-2017_NoAge.pt')\n",
    "model = model.cuda()\n",
    "f1, acc = get_cls_perf(model=model, loader=test_loader, model_type='text-meta')\n",
    "print(f'f1: {f1}')\n",
    "print(f'acc: {acc}')\n",
    "\n",
    "print()"
   ]
  },
  {
   "cell_type": "markdown",
   "id": "a61dbf45",
   "metadata": {},
   "source": [
    "#### TextOnly with No Age"
   ]
  },
  {
   "cell_type": "code",
   "execution_count": 5,
   "id": "1cbf15f1",
   "metadata": {},
   "outputs": [
    {
     "name": "stdout",
     "output_type": "stream",
     "text": [
      "num_vals: 2\n",
      "curr_quantiles: [0.5]\n",
      "f1: 0.7679170691216542\n",
      "acc: 0.768149137876185\n",
      "\n"
     ]
    }
   ],
   "source": [
    "targetCol = 'usefulCountClass'\n",
    "\n",
    "num_vals = 2\n",
    "curr_quantiles = np.array([(1/num_vals)*i for i in range(1, num_vals)])\n",
    "print(f'num_vals: {num_vals}')\n",
    "print(f'curr_quantiles: {curr_quantiles}')\n",
    "\n",
    "train, val = load_data('../data/drugsComTrain_raw.csv', year_range=[2013, 2017], usefulCount_quantile=0.99,\n",
    "                       quantiles_for_class=curr_quantiles)\n",
    "train_val = pd.concat((train, val), axis=0)\n",
    "max_usefulCount = max(train['usefulCountCapped'])\n",
    "curr_buckets = get_buckets(df=train_val, quantiles=curr_quantiles)\n",
    "\n",
    "#### Load test data and create loader\n",
    "test1, test2 = load_data('../data/drugsComTest_raw.csv', year_range=[2013, 2017], usefulCount_range=[0, max_usefulCount],\n",
    "                       quantiles_for_class=curr_quantiles)\n",
    "test = pd.concat((test1, test2), axis=0)\n",
    "testset = ReviewDataset(test, 'distilbert-base-uncased', nonTextCols, targetCol)\n",
    "test_loader = DataLoader(dataset=testset, batch_size=8, shuffle=False)\n",
    "\n",
    "model = torch.load(f'../models/Classifiers/distilBERT_Frozen_TextOnly_Classify{num_vals}_2013-2017_NoAge.pt')\n",
    "model = model.cuda()\n",
    "f1, acc = get_cls_perf(model=model, loader=test_loader, model_type='text')\n",
    "print(f'f1: {f1}')\n",
    "print(f'acc: {acc}')\n",
    "\n",
    "print()"
   ]
  },
  {
   "cell_type": "markdown",
   "id": "cbaf7f87",
   "metadata": {},
   "source": [
    "#### Linear Baseline"
   ]
  },
  {
   "cell_type": "code",
   "execution_count": null,
   "id": "04d00392",
   "metadata": {},
   "outputs": [],
   "source": []
  },
  {
   "cell_type": "markdown",
   "id": "62c46932",
   "metadata": {},
   "source": [
    "### Scratch Work"
   ]
  },
  {
   "cell_type": "code",
   "execution_count": 10,
   "id": "bf8ff959",
   "metadata": {},
   "outputs": [],
   "source": [
    "#### Set up buckets for regression prediction assignment\n",
    "num_vals = 4\n",
    "curr_quantiles = np.array([(1/num_vals)*i for i in range(1, num_vals)])\n",
    "\n",
    "train, val = load_data('../data/drugsComTrain_raw.csv', year_range=[2009, 2013], usefulCount_quantile=0.99,\n",
    "                       quantiles_for_class=curr_quantiles)\n",
    "train_val = pd.concat((train, val), axis=0)\n",
    "max_usefulCount = max(train['usefulCountCapped'])\n",
    "curr_buckets = get_buckets(df=train_val, quantiles=curr_quantiles)\n",
    "\n",
    "#### Load test data and create loader\n",
    "test1, test2 = load_data('../data/drugsComTest_raw.csv', year_range=[2009, 2013], usefulCount_range=[0, max_usefulCount],\n",
    "                       quantiles_for_class=curr_quantiles)\n",
    "test = pd.concat((test1, test2), axis=0)\n",
    "testset = ReviewDataset(test, 'distilbert-base-uncased', nonTextCols, targetCol)\n",
    "test_loader = DataLoader(dataset=testset, batch_size=8, shuffle=False)\n",
    "\n",
    "#### Get classification performance using assigned buckets"
   ]
  },
  {
   "cell_type": "code",
   "execution_count": 11,
   "id": "05fdd55a",
   "metadata": {},
   "outputs": [],
   "source": [
    "model = torch.load(f'../models/distilBERT_Frozen_TextMeta_Cap99_2009-2013.pt')\n",
    "model = model.cuda()"
   ]
  },
  {
   "cell_type": "code",
   "execution_count": 12,
   "id": "6f3a621b",
   "metadata": {},
   "outputs": [
    {
     "name": "stdout",
     "output_type": "stream",
     "text": [
      "0.4487997152533376\n"
     ]
    }
   ],
   "source": [
    "f1, acc = get_ordinal_cls_perf(model=model, loader=test_loader, model_type='text-meta',\n",
    "                               curr_buckets=curr_buckets, max_usefulCount=max_usefulCount)\n",
    "print(f1)"
   ]
  },
  {
   "cell_type": "code",
   "execution_count": 11,
   "id": "43d55958",
   "metadata": {},
   "outputs": [
    {
     "data": {
      "text/plain": [
       "tensor([0., 1., 0., 0., 0.])"
      ]
     },
     "execution_count": 11,
     "metadata": {},
     "output_type": "execute_result"
    }
   ],
   "source": [
    "from utils.evaluation import assign_bucket\n",
    "\n",
    "reg_pred = torch.Tensor([0, 25, 17, 4, 5]).cuda()\n",
    "reg_pred.cpu().apply_(lambda x: assign_bucket(x, curr_buckets))"
   ]
  },
  {
   "cell_type": "code",
   "execution_count": 4,
   "id": "ca2f45ae",
   "metadata": {},
   "outputs": [
    {
     "data": {
      "text/plain": [
       "[[0, 18.0], [18.0, inf]]"
      ]
     },
     "execution_count": 4,
     "metadata": {},
     "output_type": "execute_result"
    }
   ],
   "source": [
    "curr_buckets"
   ]
  },
  {
   "cell_type": "code",
   "execution_count": null,
   "id": "dfac6401",
   "metadata": {},
   "outputs": [],
   "source": []
  }
 ],
 "metadata": {
  "kernelspec": {
   "display_name": "nlp",
   "language": "python",
   "name": "nlp"
  },
  "language_info": {
   "codemirror_mode": {
    "name": "ipython",
    "version": 3
   },
   "file_extension": ".py",
   "mimetype": "text/x-python",
   "name": "python",
   "nbconvert_exporter": "python",
   "pygments_lexer": "ipython3",
   "version": "3.7.10"
  }
 },
 "nbformat": 4,
 "nbformat_minor": 5
}
