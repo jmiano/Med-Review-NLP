{
 "cells": [
  {
   "cell_type": "code",
   "execution_count": 55,
   "id": "c91e6500",
   "metadata": {},
   "outputs": [],
   "source": [
    "import torch\n",
    "import numpy as np\n",
    "import pandas as pd\n",
    "import transformers"
   ]
  },
  {
   "cell_type": "code",
   "execution_count": 22,
   "id": "7cb0f23c",
   "metadata": {},
   "outputs": [],
   "source": [
    "df = pd.read_csv('../data/drugsComTrain_raw.csv', encoding='utf-8')#.sample(frac=0.05, random_state=8)"
   ]
  },
  {
   "cell_type": "code",
   "execution_count": 47,
   "id": "f95bcf27",
   "metadata": {},
   "outputs": [
    {
     "name": "stdout",
     "output_type": "stream",
     "text": [
      "['Birth Control', 'Depression', 'Pain', 'Anxiety', 'Acne', 'Bipolar Disorde', 'Insomnia', 'Weight Loss', 'Obesity', 'ADHD']\n"
     ]
    }
   ],
   "source": [
    "conditions = list(df.groupby('condition').count().reset_index().sort_values(by='uniqueID', ascending=False)[:10]['condition'])\n",
    "print(conditions)"
   ]
  },
  {
   "cell_type": "code",
   "execution_count": 45,
   "id": "84b30dd4",
   "metadata": {},
   "outputs": [
    {
     "data": {
      "text/html": [
       "<div>\n",
       "<style scoped>\n",
       "    .dataframe tbody tr th:only-of-type {\n",
       "        vertical-align: middle;\n",
       "    }\n",
       "\n",
       "    .dataframe tbody tr th {\n",
       "        vertical-align: top;\n",
       "    }\n",
       "\n",
       "    .dataframe thead th {\n",
       "        text-align: right;\n",
       "    }\n",
       "</style>\n",
       "<table border=\"1\" class=\"dataframe\">\n",
       "  <thead>\n",
       "    <tr style=\"text-align: right;\">\n",
       "      <th></th>\n",
       "      <th>uniqueID</th>\n",
       "      <th>drugName</th>\n",
       "      <th>condition</th>\n",
       "      <th>review</th>\n",
       "      <th>rating</th>\n",
       "      <th>date</th>\n",
       "      <th>usefulCount</th>\n",
       "    </tr>\n",
       "  </thead>\n",
       "  <tbody>\n",
       "    <tr>\n",
       "      <th>1</th>\n",
       "      <td>95260</td>\n",
       "      <td>Guanfacine</td>\n",
       "      <td>ADHD</td>\n",
       "      <td>\"My son is halfway through his fourth week of ...</td>\n",
       "      <td>8</td>\n",
       "      <td>27-Apr-10</td>\n",
       "      <td>192</td>\n",
       "    </tr>\n",
       "    <tr>\n",
       "      <th>2</th>\n",
       "      <td>92703</td>\n",
       "      <td>Lybrel</td>\n",
       "      <td>Birth Control</td>\n",
       "      <td>\"I used to take another oral contraceptive, wh...</td>\n",
       "      <td>5</td>\n",
       "      <td>14-Dec-09</td>\n",
       "      <td>17</td>\n",
       "    </tr>\n",
       "    <tr>\n",
       "      <th>3</th>\n",
       "      <td>138000</td>\n",
       "      <td>Ortho Evra</td>\n",
       "      <td>Birth Control</td>\n",
       "      <td>\"This is my first time using any form of birth...</td>\n",
       "      <td>8</td>\n",
       "      <td>3-Nov-15</td>\n",
       "      <td>10</td>\n",
       "    </tr>\n",
       "    <tr>\n",
       "      <th>6</th>\n",
       "      <td>165907</td>\n",
       "      <td>Levonorgestrel</td>\n",
       "      <td>Emergency Contraception</td>\n",
       "      <td>\"He pulled out, but he cummed a bit in me. I t...</td>\n",
       "      <td>1</td>\n",
       "      <td>7-Mar-17</td>\n",
       "      <td>5</td>\n",
       "    </tr>\n",
       "    <tr>\n",
       "      <th>7</th>\n",
       "      <td>102654</td>\n",
       "      <td>Aripiprazole</td>\n",
       "      <td>Bipolar Disorde</td>\n",
       "      <td>\"Abilify changed my life. There is hope. I was...</td>\n",
       "      <td>10</td>\n",
       "      <td>14-Mar-15</td>\n",
       "      <td>32</td>\n",
       "    </tr>\n",
       "    <tr>\n",
       "      <th>...</th>\n",
       "      <td>...</td>\n",
       "      <td>...</td>\n",
       "      <td>...</td>\n",
       "      <td>...</td>\n",
       "      <td>...</td>\n",
       "      <td>...</td>\n",
       "      <td>...</td>\n",
       "    </tr>\n",
       "    <tr>\n",
       "      <th>161283</th>\n",
       "      <td>228492</td>\n",
       "      <td>Geodon</td>\n",
       "      <td>Bipolar Disorde</td>\n",
       "      <td>\"I was in a very bad place at the time I start...</td>\n",
       "      <td>3</td>\n",
       "      <td>25-Jul-16</td>\n",
       "      <td>5</td>\n",
       "    </tr>\n",
       "    <tr>\n",
       "      <th>161286</th>\n",
       "      <td>93069</td>\n",
       "      <td>Vortioxetine</td>\n",
       "      <td>Depression</td>\n",
       "      <td>\"This is the third med I&amp;#039;ve tried for anx...</td>\n",
       "      <td>2</td>\n",
       "      <td>17-Jul-16</td>\n",
       "      <td>33</td>\n",
       "    </tr>\n",
       "    <tr>\n",
       "      <th>161287</th>\n",
       "      <td>132177</td>\n",
       "      <td>Ativan</td>\n",
       "      <td>Anxiety</td>\n",
       "      <td>\"I was super against taking medication. I&amp;#039...</td>\n",
       "      <td>9</td>\n",
       "      <td>16-Aug-16</td>\n",
       "      <td>61</td>\n",
       "    </tr>\n",
       "    <tr>\n",
       "      <th>161290</th>\n",
       "      <td>103458</td>\n",
       "      <td>Tekturna</td>\n",
       "      <td>High Blood Pressure</td>\n",
       "      <td>\"I have only been on Tekturna for 9 days. The ...</td>\n",
       "      <td>7</td>\n",
       "      <td>7-Feb-10</td>\n",
       "      <td>18</td>\n",
       "    </tr>\n",
       "    <tr>\n",
       "      <th>161291</th>\n",
       "      <td>164345</td>\n",
       "      <td>Junel 1.5 / 30</td>\n",
       "      <td>Birth Control</td>\n",
       "      <td>\"This would be my second month on Junel. I&amp;#03...</td>\n",
       "      <td>6</td>\n",
       "      <td>27-May-15</td>\n",
       "      <td>0</td>\n",
       "    </tr>\n",
       "  </tbody>\n",
       "</table>\n",
       "<p>94446 rows × 7 columns</p>\n",
       "</div>"
      ],
      "text/plain": [
       "        uniqueID        drugName                condition  \\\n",
       "1          95260      Guanfacine                     ADHD   \n",
       "2          92703          Lybrel            Birth Control   \n",
       "3         138000      Ortho Evra            Birth Control   \n",
       "6         165907  Levonorgestrel  Emergency Contraception   \n",
       "7         102654    Aripiprazole          Bipolar Disorde   \n",
       "...          ...             ...                      ...   \n",
       "161283    228492          Geodon          Bipolar Disorde   \n",
       "161286     93069    Vortioxetine               Depression   \n",
       "161287    132177          Ativan                  Anxiety   \n",
       "161290    103458        Tekturna      High Blood Pressure   \n",
       "161291    164345  Junel 1.5 / 30            Birth Control   \n",
       "\n",
       "                                                   review  rating       date  \\\n",
       "1       \"My son is halfway through his fourth week of ...       8  27-Apr-10   \n",
       "2       \"I used to take another oral contraceptive, wh...       5  14-Dec-09   \n",
       "3       \"This is my first time using any form of birth...       8   3-Nov-15   \n",
       "6       \"He pulled out, but he cummed a bit in me. I t...       1   7-Mar-17   \n",
       "7       \"Abilify changed my life. There is hope. I was...      10  14-Mar-15   \n",
       "...                                                   ...     ...        ...   \n",
       "161283  \"I was in a very bad place at the time I start...       3  25-Jul-16   \n",
       "161286  \"This is the third med I&#039;ve tried for anx...       2  17-Jul-16   \n",
       "161287  \"I was super against taking medication. I&#039...       9  16-Aug-16   \n",
       "161290  \"I have only been on Tekturna for 9 days. The ...       7   7-Feb-10   \n",
       "161291  \"This would be my second month on Junel. I&#03...       6  27-May-15   \n",
       "\n",
       "        usefulCount  \n",
       "1               192  \n",
       "2                17  \n",
       "3                10  \n",
       "6                 5  \n",
       "7                32  \n",
       "...             ...  \n",
       "161283            5  \n",
       "161286           33  \n",
       "161287           61  \n",
       "161290           18  \n",
       "161291            0  \n",
       "\n",
       "[94446 rows x 7 columns]"
      ]
     },
     "execution_count": 45,
     "metadata": {},
     "output_type": "execute_result"
    }
   ],
   "source": [
    "df.loc[df['condition'].isin(conditions)]"
   ]
  },
  {
   "cell_type": "code",
   "execution_count": 51,
   "id": "b09d6647",
   "metadata": {},
   "outputs": [
    {
     "data": {
      "text/plain": [
       "-inf"
      ]
     },
     "execution_count": 51,
     "metadata": {},
     "output_type": "execute_result"
    }
   ],
   "source": [
    "min(np.log(df['usefulCount']) / np.max(np.log(df['usefulCount'])))"
   ]
  },
  {
   "cell_type": "code",
   "execution_count": 1,
   "id": "1c168cb0",
   "metadata": {},
   "outputs": [],
   "source": [
    "import sys\n",
    "sys.path.insert(0,'..')\n",
    "from utils.preprocessing import load_data"
   ]
  },
  {
   "cell_type": "code",
   "execution_count": 2,
   "id": "e96f8f71",
   "metadata": {},
   "outputs": [],
   "source": [
    "train, val = load_data('../data/drugsComTrain_raw.csv')"
   ]
  },
  {
   "cell_type": "code",
   "execution_count": 7,
   "id": "4f54f1f4",
   "metadata": {},
   "outputs": [
    {
     "data": {
      "text/plain": [
       "set()"
      ]
     },
     "execution_count": 7,
     "metadata": {},
     "output_type": "execute_result"
    }
   ],
   "source": [
    "set(train['uniqueID']) & set(val['uniqueID'])"
   ]
  },
  {
   "cell_type": "code",
   "execution_count": null,
   "id": "8b0519b9",
   "metadata": {},
   "outputs": [],
   "source": []
  }
 ],
 "metadata": {
  "kernelspec": {
   "display_name": "nlp",
   "language": "python",
   "name": "nlp"
  },
  "language_info": {
   "codemirror_mode": {
    "name": "ipython",
    "version": 3
   },
   "file_extension": ".py",
   "mimetype": "text/x-python",
   "name": "python",
   "nbconvert_exporter": "python",
   "pygments_lexer": "ipython3",
   "version": "3.7.10"
  }
 },
 "nbformat": 4,
 "nbformat_minor": 5
}
